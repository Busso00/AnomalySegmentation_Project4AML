{
  "cells": [
    {
      "cell_type": "markdown",
      "metadata": {
        "id": "7Hx6WeN_rmAx"
      },
      "source": []
    },
    {
      "cell_type": "markdown",
      "metadata": {
        "id": "jkdsYSiKpiv6"
      },
      "source": [
        "# !!!IMPORTANT SETUP!!!\n",
        "\n",
        "## from your GoogleDrive:\n",
        "1.   create a folder ProjectAML in /content/drive/MyDrive\n",
        "2.   upload in ProjectAML (the modified version of) python code @ https://github.com/shyam671/AnomalySegmentation_CourseProjectBaseCode\n",
        "3. create an empty folder /ProjectAML/datasets/Validation_Dataset\n",
        "4.  import manually all the test dataset in /content/drive/MyDrive/ProjectAML/datasets/Validation_Dataset from https://drive.google.com/file/d/1r2eFANvSlcUjxcerjC8l6dRa0slowMpx/view, folder must contain subfolder of the zip (FS_LostFound_full, fs_static, RoadAnomaly, RoadAnomaly21, RoadObstacles)\n",
        "5. create an empty folder /ProjectAML/datasets/Train_Dataset\n",
        "\n",
        "## NOTE: training use a high capacity RAM -> Colab Pro, but you can skip since exist a pre-trained model"
      ]
    },
    {
      "cell_type": "markdown",
      "metadata": {
        "id": "aq3wxcBVTBJz"
      },
      "source": [
        "# **Install required modules**"
      ]
    },
    {
      "cell_type": "code",
      "execution_count": null,
      "metadata": {
        "id": "JG2XM4D5VdBe"
      },
      "outputs": [],
      "source": [
        "#do once\n",
        "!pip3 install 'torch'\n",
        "!pip3 install 'torchvision'\n",
        "#optimized version of Pillow\n",
        "!pip3 install 'Pillow-SIMD'\n",
        "!pip3 install 'numpy'\n",
        "!pip3 install 'matplotlib'\n",
        "#required to work, don't use --visualize\n",
        "!pip3 install 'visdom'\n",
        "#script to download train dataset\n",
        "!pip3 install 'cityscapesscripts'\n",
        "#restart after import"
      ]
    },
    {
      "cell_type": "markdown",
      "metadata": {
        "id": "53nL4bI-S9nM"
      },
      "source": [
        "# **Mount drive**"
      ]
    },
    {
      "cell_type": "code",
      "execution_count": null,
      "metadata": {
        "id": "pBx7SSAkTeHH"
      },
      "outputs": [],
      "source": [
        "import torch\n",
        "#use GPU if available\n",
        "DEVICE = torch.device(\"cuda:0\" if torch.cuda.is_available() else \"cpu\") #'cpu' # 'cuda' or 'cpu'\n",
        "print(DEVICE)\n",
        "\n",
        "from google.colab import drive\n",
        "drive.mount('/content/drive')\n"
      ]
    },
    {
      "cell_type": "code",
      "execution_count": null,
      "metadata": {
        "id": "W6Nht5M1-kNW"
      },
      "outputs": [],
      "source": [
        "!unzip -q /content/drive/MyDrive/ProjectAML/datasets/Validation_Dataset/Validation_Dataset.zip \\\n",
        " -d /content/drive/MyDrive/ProjectAML/datasets/"
      ]
    },
    {
      "cell_type": "markdown",
      "metadata": {
        "id": "TnxOp3rHl3Xc"
      },
      "source": [
        "# **Import and reorganize cityscapes dataset**\n",
        "### necessary to run IoU evaluation on val set"
      ]
    },
    {
      "cell_type": "code",
      "execution_count": null,
      "metadata": {
        "id": "iXGUCF6WD2zI"
      },
      "outputs": [],
      "source": [
        "#do once\n",
        "import os\n",
        "#switch to cpu for download\n",
        "DEVICE = torch.device(\"cpu\")\n",
        "\n",
        "!rm -r /content/drive/MyDrive/ProjectAML/datasets/Train_Dataset\n",
        "!mkdir /content/drive/MyDrive/ProjectAML/datasets/Train_Dataset\n",
        "\n",
        "#register to https://www.cityscapes-dataset.com and login here\n",
        "#241MB\n",
        "!csDownload gtFine_trainvaltest.zip -d /content/drive/MyDrive/ProjectAML/datasets/Train_Dataset\n",
        "#register to https://www.cityscapes-dataset.com and login here or use saved credentials\n",
        "#11GB\n",
        "!csDownload leftImg8bit_trainvaltest.zip -d /content/drive/MyDrive/ProjectAML/datasets/Train_Dataset\n",
        "\n",
        "#unzip dataset\n",
        "!unzip -q /content/drive/MyDrive/ProjectAML/datasets/Train_Dataset/gtFine_trainvaltest.zip \\\n",
        " -d /content/drive/MyDrive/ProjectAML/datasets/Train_Dataset/gtFine_trainvaltest\n",
        "!unzip -q /content/drive/MyDrive/ProjectAML/datasets/Train_Dataset/leftImg8bit_trainvaltest.zip \\\n",
        " -d /content/drive/MyDrive/ProjectAML/datasets/Train_Dataset/leftImg8bit_trainvaltest\n",
        "\n"
      ]
    },
    {
      "cell_type": "code",
      "execution_count": null,
      "metadata": {
        "id": "3EemzSBNGlx1"
      },
      "outputs": [],
      "source": [
        "#make sure that unzip complete successfully before executing this cell\n",
        "\n",
        "#remove zip\n",
        "!rm /content/drive/MyDrive/ProjectAML/datasets/Train_Dataset/gtFine_trainvaltest.zip\n",
        "!rm /content/drive/MyDrive/ProjectAML/datasets/Train_Dataset/leftImg8bit_trainvaltest.zip"
      ]
    },
    {
      "cell_type": "code",
      "execution_count": null,
      "metadata": {
        "id": "QGFTi8Sh61vU"
      },
      "outputs": [],
      "source": [
        "\n",
        "#move only necessary folder in /Train_Dataset\n",
        "!mv /content/drive/MyDrive/ProjectAML/datasets/Train_Dataset/gtFine_trainvaltest/gtFine \\\n",
        "  /content/drive/MyDrive/ProjectAML/datasets/Train_Dataset/gtFine\n",
        "!mv /content/drive/MyDrive/ProjectAML/datasets/Train_Dataset/leftImg8bit_trainvaltest/leftImg8bit \\\n",
        "  /content/drive/MyDrive/ProjectAML/datasets/Train_Dataset/leftImg8bit\n",
        "\n"
      ]
    },
    {
      "cell_type": "code",
      "execution_count": null,
      "metadata": {
        "id": "3bdv1ft_67gD"
      },
      "outputs": [],
      "source": [
        "#make sure that mv complete successfully before executing this cell\n",
        "\n",
        "#remove original folder (with README and other stuff)\n",
        "!rm -r /content/drive/MyDrive/ProjectAML/datasets/Train_Dataset/gtFine_trainvaltest\n",
        "!rm -r /content/drive/MyDrive/ProjectAML/datasets/Train_Dataset/leftImg8bit_trainvaltest\n",
        "\n",
        "#set required OS env variable to run correctly csCreateTrainIdInstanceImgs\n",
        "os.environ['CITYSCAPES_DATASET'] = '/content/drive/MyDrive/ProjectAML/datasets/Train_Dataset/'\n",
        "#create label\n",
        "!csCreateTrainIdLabelImgs\n",
        "\n",
        "# return to gpu\n",
        "DEVICE = torch.device(\"cuda:0\" if torch.cuda.is_available() else \"cpu\") #'cpu' # 'cuda' or 'cpu'"
      ]
    },
    {
      "cell_type": "markdown",
      "metadata": {
        "id": "z5DHyduZSr3y"
      },
      "source": []
    },
    {
      "cell_type": "code",
      "execution_count": null,
      "metadata": {
        "colab": {
          "base_uri": "https://localhost:8080/"
        },
        "id": "16oL6aMB5ZHG",
        "outputId": "7262b524-086b-4a53-ac1a-42b745f43583"
      },
      "outputs": [
        {
          "name": "stdout",
          "output_type": "stream",
          "text": [
            "Mounted at /content/drive\n"
          ]
        }
      ],
      "source": [
        "#synchronize your google drive after any modification to ProjectAML folder\n",
        "drive.flush_and_unmount() #synch\n",
        "drive.mount('/content/drive') #remount"
      ]
    },
    {
      "cell_type": "markdown",
      "metadata": {
        "id": "xd4J41q7Spbx"
      },
      "source": [
        "# **START TRAINING**\n",
        "## skip, trained model already exists"
      ]
    },
    {
      "cell_type": "code",
      "execution_count": null,
      "metadata": {
        "id": "ni9Z2_ZTPWXb"
      },
      "outputs": [],
      "source": [
        "import os\n",
        "start = os.getcwd()\n",
        "folder_path = \"/content/drive/MyDrive/ProjectAML/train\"\n",
        "os.chdir(folder_path)\n",
        "\n",
        "!rm -r /content/drive/MyDrive/ProjectAML/save\n",
        "!mkdir /content/drive/MyDrive/ProjectAML/save\n",
        "\n",
        "%run main.py --savedir erfnet_train_cityscape \\\n",
        " --datadir /content/drive/MyDrive/ProjectAML/datasets/Train_Dataset \\\n",
        " --decoder --pretrainedEncoder /content/drive/MyDrive/ProjectAML/trained_models/erfnet_encoder_pretrained.pth.tar\n",
        "\n",
        "#python -m visdom.server -port 8097 # run on local pc-> see result on localhost"
      ]
    },
    {
      "cell_type": "markdown",
      "metadata": {
        "id": "qj8sHB59kGNU"
      },
      "source": [
        "# Eval AuPRC FPR95 on datasets"
      ]
    },
    {
      "cell_type": "code",
      "execution_count": null,
      "metadata": {
        "id": "J35AuT_kx996"
      },
      "outputs": [],
      "source": [
        "!pip3 install 'ood-metrics'\n"
      ]
    },
    {
      "cell_type": "code",
      "execution_count": null,
      "metadata": {
        "id": "y8uSWDbqi_lg"
      },
      "outputs": [],
      "source": [
        "import os\n",
        "start = os.getcwd()\n",
        "folder_path = \"/content/drive/MyDrive/ProjectAML/eval\"\n",
        "os.chdir(folder_path)\n",
        "#modify parser: parse all the path elsewhere\n",
        "%run eval_iou.py --datadir '/content/drive/MyDrive/ProjectAML/datasets/Train_Dataset' --subset val\n"
      ]
    },
    {
      "cell_type": "markdown",
      "source": [
        "# Run MSP, max logit, max entropy\n"
      ],
      "metadata": {
        "id": "gf6lyK3bCxH4"
      }
    },
    {
      "cell_type": "code",
      "execution_count": null,
      "metadata": {
        "colab": {
          "background_save": true
        },
        "id": "ITaTGFvy7FJs"
      },
      "outputs": [],
      "source": [
        "import os\n",
        "start = os.getcwd()\n",
        "folder_path = \"/content/drive/MyDrive/ProjectAML/eval\"\n",
        "os.chdir(folder_path)\n",
        "\n",
        "\n",
        "\n",
        "print(\"RoadAnomaly21 MSP\")\n",
        "%run evalAnomaly.py --input '/content/drive/MyDrive/ProjectAML/datasets/Validation_Dataset/RoadAnomaly21/images/*.png' \\\n",
        " --anomalyScore 'MSP'\n",
        "print(\"RoadObstacle21 MSP\")\n",
        "%run evalAnomaly.py --input '/content/drive/MyDrive/ProjectAML/datasets/Validation_Dataset/RoadObsticle21/images/*.webp' \\\n",
        " --anomalyScore 'MSP'\n",
        "print(\"FS_LostFound_full MSP\")\n",
        "%run evalAnomaly.py --input '/content/drive/MyDrive/ProjectAML/datasets/Validation_Dataset/FS_LostFound_full/images/*.png' \\\n",
        " --anomalyScore 'MSP'\n",
        "print(\"fs_static MSP\")\n",
        "%run evalAnomaly.py --input '/content/drive/MyDrive/ProjectAML/datasets/Validation_Dataset/fs_static/images/*.jpg' \\\n",
        " --anomalyScore 'MSP'\n",
        "print(\"RoadAnomaly MSP\")\n",
        "%run evalAnomaly.py --input '/content/drive/MyDrive/ProjectAML/datasets/Validation_Dataset/RoadAnomaly/images/*.jpg' \\\n",
        " --anomalyScore 'MSP'\n",
        "\n",
        "print(\"RoadAnomaly21 max logit\")\n",
        "%run evalAnomaly.py --input '/content/drive/MyDrive/ProjectAML/datasets/Validation_Dataset/RoadAnomaly21/images/*.png'\n",
        "print(\"RoadObstacle21 max logit\")\n",
        "%run evalAnomaly.py --input '/content/drive/MyDrive/ProjectAML/datasets/Validation_Dataset/RoadObsticle21/images/*.webp'\n",
        "print(\"FS_LostFound_full max logit\")\n",
        "%run evalAnomaly.py --input '/content/drive/MyDrive/ProjectAML/datasets/Validation_Dataset/FS_LostFound_full/images/*.png'\n",
        "print(\"fs_static max logit\")\n",
        "%run evalAnomaly.py --input '/content/drive/MyDrive/ProjectAML/datasets/Validation_Dataset/fs_static/images/*.jpg'\n",
        "print(\"RoadAnomaly max logit\")\n",
        "%run evalAnomaly.py --input '/content/drive/MyDrive/ProjectAML/datasets/Validation_Dataset/RoadAnomaly/images/*.jpg'\n",
        "\n",
        "print(\"RoadAnomaly21 max entropy\")\n",
        "%run evalAnomaly.py --input '/content/drive/MyDrive/ProjectAML/datasets/Validation_Dataset/RoadAnomaly21/images/*.png' \\\n",
        "--anomalyScore 'maxEntropy'\n",
        "print(\"RoadObstacle21 max entropy\")\n",
        "%run evalAnomaly.py --input '/content/drive/MyDrive/ProjectAML/datasets/Validation_Dataset/RoadObsticle21/images/*.webp' \\\n",
        "--anomalyScore 'maxEntropy'\n",
        "print(\"FS_LostFound_full max entropy\")\n",
        "%run evalAnomaly.py --input '/content/drive/MyDrive/ProjectAML/datasets/Validation_Dataset/FS_LostFound_full/images/*.png' \\\n",
        "--anomalyScore 'maxEntropy'\n",
        "print(\"fs_static max entropy\")\n",
        "%run evalAnomaly.py --input '/content/drive/MyDrive/ProjectAML/datasets/Validation_Dataset/fs_static/images/*.jpg' \\\n",
        "--anomalyScore 'maxEntropy'\n",
        "print(\"RoadAnomaly max entropy\")\n",
        "%run evalAnomaly.py --input '/content/drive/MyDrive/ProjectAML/datasets/Validation_Dataset/RoadAnomaly/images/*.jpg' \\\n",
        "--anomalyScore 'maxEntropy'\n"
      ]
    },
    {
      "cell_type": "markdown",
      "source": [
        "# Run temperature scaled MSP"
      ],
      "metadata": {
        "id": "P9RWRciWC3z3"
      }
    },
    {
      "cell_type": "code",
      "execution_count": null,
      "metadata": {
        "id": "IehXsn5aT7mO"
      },
      "outputs": [],
      "source": [
        "import os\n",
        "start = os.getcwd()\n",
        "folder_path = \"/content/drive/MyDrive/ProjectAML/eval\"\n",
        "os.chdir(folder_path)\n",
        "\n",
        "print(\"RoadAnomaly21 temp=0.5 MSP\")\n",
        "%run evalAnomaly.py --input '/content/drive/MyDrive/ProjectAML/datasets/Validation_Dataset/RoadAnomaly21/images/*.png' \\\n",
        " --anomalyScore 'tempMSP' --temp 0.5\n",
        "print(\"RoadObstacle21 temp=0.5 MSP\")\n",
        "%run evalAnomaly.py --input '/content/drive/MyDrive/ProjectAML/datasets/Validation_Dataset/RoadObsticle21/images/*.webp' \\\n",
        " --anomalyScore 'tempMSP' --temp 0.5\n",
        "print(\"FS_LostFound_full temp=0.5 MSP\")\n",
        "%run evalAnomaly.py --input '/content/drive/MyDrive/ProjectAML/datasets/Validation_Dataset/FS_LostFound_full/images/*.png' \\\n",
        " --anomalyScore 'tempMSP' --temp 0.5\n",
        "print(\"fs_static temp=0.5 MSP\")\n",
        "%run evalAnomaly.py --input '/content/drive/MyDrive/ProjectAML/datasets/Validation_Dataset/fs_static/images/*.jpg' \\\n",
        " --anomalyScore 'tempMSP' --temp 0.5\n",
        "print(\"RoadAnomaly temp=0.5 MSP\")\n",
        "%run evalAnomaly.py --input '/content/drive/MyDrive/ProjectAML/datasets/Validation_Dataset/RoadAnomaly/images/*.jpg' \\\n",
        " --anomalyScore 'tempMSP' --temp 0.5\n",
        "\n",
        "print(\"RoadAnomaly21 temp=0.75 MSP\")\n",
        "%run evalAnomaly.py --input '/content/drive/MyDrive/ProjectAML/datasets/Validation_Dataset/RoadAnomaly21/images/*.png' \\\n",
        " --anomalyScore 'tempMSP' --temp 0.75\n",
        "print(\"RoadObstacle21 temp=0.75 MSP\")\n",
        "%run evalAnomaly.py --input '/content/drive/MyDrive/ProjectAML/datasets/Validation_Dataset/RoadObsticle21/images/*.webp' \\\n",
        " --anomalyScore 'tempMSP' --temp 0.75\n",
        "print(\"FS_LostFound_full temp=0.75 MSP\")\n",
        "%run evalAnomaly.py --input '/content/drive/MyDrive/ProjectAML/datasets/Validation_Dataset/FS_LostFound_full/images/*.png' \\\n",
        " --anomalyScore 'tempMSP' --temp 0.75\n",
        "print(\"fs_static temp=0.75 MSP\")\n",
        "%run evalAnomaly.py --input '/content/drive/MyDrive/ProjectAML/datasets/Validation_Dataset/fs_static/images/*.jpg' \\\n",
        " --anomalyScore 'tempMSP' --temp 0.75\n",
        "print(\"RoadAnomaly temp=0.75 MSP\")\n",
        "%run evalAnomaly.py --input '/content/drive/MyDrive/ProjectAML/datasets/Validation_Dataset/RoadAnomaly/images/*.jpg' \\\n",
        " --anomalyScore 'tempMSP' --temp 0.75\n",
        "\n",
        "print(\"RoadAnomaly21 temp=1.1 MSP\")\n",
        "%run evalAnomaly.py --input '/content/drive/MyDrive/ProjectAML/datasets/Validation_Dataset/RoadAnomaly21/images/*.png' \\\n",
        " --anomalyScore 'tempMSP' --temp 1.1\n",
        "print(\"RoadObstacle21 temp=1.1 MSP\")\n",
        "%run evalAnomaly.py --input '/content/drive/MyDrive/ProjectAML/datasets/Validation_Dataset/RoadObsticle21/images/*.webp' \\\n",
        " --anomalyScore 'tempMSP' --temp 1.1\n",
        "print(\"FS_LostFound_full temp=1.1 MSP\")\n",
        "%run evalAnomaly.py --input '/content/drive/MyDrive/ProjectAML/datasets/Validation_Dataset/FS_LostFound_full/images/*.png' \\\n",
        " --anomalyScore 'tempMSP' --temp 1.1\n",
        "print(\"fs_static temp=1.1 MSP\")\n",
        "%run evalAnomaly.py --input '/content/drive/MyDrive/ProjectAML/datasets/Validation_Dataset/fs_static/images/*.jpg' \\\n",
        " --anomalyScore 'tempMSP' --temp 1.1\n",
        "print(\"RoadAnomaly temp=1.1 MSP\")\n",
        "%run evalAnomaly.py --input '/content/drive/MyDrive/ProjectAML/datasets/Validation_Dataset/RoadAnomaly/images/*.jpg' \\\n",
        " --anomalyScore 'tempMSP' --temp 1.1"
      ]
    },
    {
      "cell_type": "markdown",
      "source": [],
      "metadata": {
        "id": "AVkx29OoDEqg"
      }
    },
    {
      "cell_type": "markdown",
      "source": [
        "# Grid search of best temperature for MSP"
      ],
      "metadata": {
        "id": "alSLJHsHC9RL"
      }
    },
    {
      "cell_type": "code",
      "execution_count": null,
      "metadata": {
        "id": "P9Ouivy3IDmL"
      },
      "outputs": [],
      "source": [
        "import os\n",
        "from IPython import get_ipython\n",
        "start = os.getcwd()\n",
        "folder_path = \"/content/drive/MyDrive/ProjectAML/eval\"\n",
        "os.chdir(folder_path)\n",
        "\n",
        "def run_command(command):\n",
        "    result = get_ipython().system(command)\n",
        "    if result != 0:\n",
        "        print(f\"Error executing command: {command}\")\n",
        "\n",
        "\n",
        "for i in range(4, -5, -1):\n",
        "    t = format(f\"{10**i}\")\n",
        "\n",
        "    # Define the commands in a list\n",
        "    commands = [\n",
        "        f'echo \"Running RoadAnomaly21 temp={t} MSP\"',\n",
        "        f\"python3 evalAnomaly.py --input /content/drive/MyDrive/ProjectAML/datasets/Validation_Dataset/RoadAnomaly21/images/*.png --anomalyScore tempMSP --temp {t}\",\n",
        "        f'echo \"Running RoadObstacle21 temp={t} MSP\"',\n",
        "        f\"python3 evalAnomaly.py --input '/content/drive/MyDrive/ProjectAML/datasets/Validation_Dataset/RoadObsticle21/images/*.webp' --anomalyScore 'tempMSP' --temp {t}\",\n",
        "        f'echo \"Running FS_LostFound_full temp={t} MSP\"',\n",
        "        f\"python3 evalAnomaly.py --input '/content/drive/MyDrive/ProjectAML/datasets/Validation_Dataset/FS_LostFound_full/images/*.png' --anomalyScore 'tempMSP' --temp {t}\",\n",
        "        f'echo \"Running fs_static temp={t} MSP\"',\n",
        "        f\"python3 evalAnomaly.py --input '/content/drive/MyDrive/ProjectAML/datasets/Validation_Dataset/fs_static/images/*.jpg' --anomalyScore 'tempMSP' --temp {t}\",\n",
        "        f'echo \"Running RoadAnomaly temp={t} MSP\"',\n",
        "        f\"python3 evalAnomaly.py --input '/content/drive/MyDrive/ProjectAML/datasets/Validation_Dataset/RoadAnomaly/images/*.jpg' --anomalyScore 'tempMSP' --temp {t}\"\n",
        "    ]\n",
        "\n",
        "    # Execute the commands using subprocess.run\n",
        "    for command in commands:\n",
        "        run_command(command)\n",
        "\n"
      ]
    }
  ],
  "metadata": {
    "accelerator": "GPU",
    "colab": {
      "machine_shape": "hm",
      "provenance": []
    },
    "kernelspec": {
      "display_name": "Python 3",
      "name": "python3"
    },
    "language_info": {
      "name": "python"
    }
  },
  "nbformat": 4,
  "nbformat_minor": 0
}